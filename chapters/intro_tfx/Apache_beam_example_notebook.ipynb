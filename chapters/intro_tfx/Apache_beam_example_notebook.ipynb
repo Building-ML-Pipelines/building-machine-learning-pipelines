{
  "nbformat": 4,
  "nbformat_minor": 0,
  "metadata": {
    "colab": {
      "name": "Apache_beam_example_notebook.ipynb",
      "provenance": [],
      "collapsed_sections": [],
      "toc_visible": true
    },
    "kernelspec": {
      "name": "python3",
      "display_name": "Python 3"
    }
  },
  "cells": [
    {
      "cell_type": "markdown",
      "metadata": {
        "id": "oKvOFVJLu3tf",
        "colab_type": "text"
      },
      "source": [
        "# Apache Beam Word Count Example\n",
        "\n",
        "The example is adopted from https://beam.apache.org/get-started/wordcount-example/ for Google Colab\n",
        "\n",
        "[![Open In Colab](https://colab.research.google.com/assets/colab-badge.svg)](https://github.com/Building-ML-Pipelines/building-machine-learning-pipelines/blob/master/chapters/intro_tfx/Apache_beam_example_notebook.ipynb)\n"
      ]
    },
    {
      "cell_type": "code",
      "metadata": {
        "id": "rAh3av_ovF2y",
        "colab_type": "code",
        "colab": {}
      },
      "source": [
        "!pip install -q apache_beam[gcp]"
      ],
      "execution_count": 0,
      "outputs": []
    },
    {
      "cell_type": "code",
      "metadata": {
        "id": "m9BExktyu2yM",
        "colab_type": "code",
        "colab": {}
      },
      "source": [
        "import re\n",
        "\n",
        "import apache_beam as beam\n",
        "from apache_beam.io import ReadFromText\n",
        "from apache_beam.io import WriteToText\n",
        "from apache_beam.options.pipeline_options import PipelineOptions\n",
        "from apache_beam.options.pipeline_options import SetupOptions\n",
        "\n",
        "input_file = \"gs://dataflow-samples/shakespeare/kinglear.txt\"\n",
        "output_file = \"./content/output.txt\"\n",
        "\n",
        "# TODO explain these lines\n",
        "pipeline_options = PipelineOptions()\n",
        "# pipeline_options.view_as(SetupOptions).save_main_session = True\n",
        "\n",
        "with beam.Pipeline(options=pipeline_options) as p: \n",
        "\n",
        "    # Read the text file[pattern] into a PCollection.\n",
        "    lines = p | ReadFromText(input_file)\n",
        "\n",
        "    # Count the occurrences of each word.\n",
        "    counts = (\n",
        "        lines\n",
        "        | 'Split' >> (beam.FlatMap(lambda x: re.findall(r'[A-Za-z\\']+', x)))\n",
        "                      # .with_output_types(unicode))\n",
        "        | 'PairWithOne' >> beam.Map(lambda x: (x, 1))\n",
        "        | 'GroupAndSum' >> beam.CombinePerKey(sum))\n",
        "\n",
        "    # Format the counts into a PCollection of strings.\n",
        "    def format_result(word_count):\n",
        "        (word, count) = word_count\n",
        "        return '%s: %s' % (word, count)\n",
        "\n",
        "    output = counts | 'Format' >> beam.Map(format_result)\n",
        "\n",
        "    # Write the output using a \"Write\" transform that has side effects.\n",
        "    output | WriteToText(output_file)"
      ],
      "execution_count": 0,
      "outputs": []
    },
    {
      "cell_type": "code",
      "metadata": {
        "id": "-xbljzhfvJVH",
        "colab_type": "code",
        "colab": {
          "base_uri": "https://localhost:8080/",
          "height": 187
        },
        "outputId": "fd19137c-52e4-4442-b597-b0a23a2bf3bb"
      },
      "source": [
        "!head ./content/output.txt*"
      ],
      "execution_count": 8,
      "outputs": [
        {
          "output_type": "stream",
          "text": [
            "KING: 243\n",
            "LEAR: 236\n",
            "DRAMATIS: 1\n",
            "PERSONAE: 1\n",
            "king: 65\n",
            "of: 447\n",
            "Britain: 2\n",
            "OF: 15\n",
            "FRANCE: 10\n",
            "DUKE: 3\n"
          ],
          "name": "stdout"
        }
      ]
    },
    {
      "cell_type": "code",
      "metadata": {
        "id": "U0skCBIkwT9m",
        "colab_type": "code",
        "colab": {}
      },
      "source": [
        ""
      ],
      "execution_count": 0,
      "outputs": []
    }
  ]
}
